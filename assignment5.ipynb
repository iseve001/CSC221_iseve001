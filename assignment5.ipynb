{
  "nbformat": 4,
  "nbformat_minor": 0,
  "metadata": {
    "colab": {
      "provenance": [],
      "authorship_tag": "ABX9TyNfk10QoBEVvUesCjmlc45K",
      "include_colab_link": true
    },
    "kernelspec": {
      "name": "python3",
      "display_name": "Python 3"
    },
    "language_info": {
      "name": "python"
    }
  },
  "cells": [
    {
      "cell_type": "markdown",
      "metadata": {
        "id": "view-in-github",
        "colab_type": "text"
      },
      "source": [
        "<a href=\"https://colab.research.google.com/github/iseve001/CSC221_iseve001/blob/main/assignment5.ipynb\" target=\"_parent\"><img src=\"https://colab.research.google.com/assets/colab-badge.svg\" alt=\"Open In Colab\"/></a>"
      ]
    },
    {
      "cell_type": "code",
      "execution_count": 38,
      "metadata": {
        "colab": {
          "base_uri": "https://localhost:8080/"
        },
        "id": "zezi4lJK_J-0",
        "outputId": "d34e9b74-63fc-42d2-c937-43fc5d6a096d"
      },
      "outputs": [
        {
          "output_type": "stream",
          "name": "stdout",
          "text": [
            "Kobe, good play!\n",
            "Keep up the good work Kobe!\n",
            "Messi, good play!\n",
            "Keep up the good work Messi!\n",
            "Tyson, good play!\n",
            "Keep up the good work Tyson!\n",
            "Everyone played a great game, good job!\n",
            "I love Sausage pizza!\n",
            "I love Meatball pizza!\n",
            "I love Cheese pizza!\n",
            "I love me some pizza!\n",
            "1\n",
            "2\n",
            "3\n",
            "4\n",
            "[3, 6, 9, 12]\n",
            "[4, 9, 16, 25, 36, 49, 64, 81, 100, 121, 144, 169, 196]\n",
            "0\n",
            "9\n",
            "45\n",
            "[1, 3, 5, 7, 9, 11, 13, 15, 17, 19]\n",
            "[3, 6, 9, 12, 15, 18, 21, 24, 27, 30]\n",
            "1\n",
            "8\n",
            "27\n",
            "64\n",
            "125\n",
            "216\n",
            "343\n",
            "512\n",
            "729\n",
            "1000\n",
            "These are the first three contestants of the game:\n",
            "James\n",
            "Martin\n",
            "Cole\n",
            "The 3 middle constestants are:\n",
            "Martin\n",
            "Cole\n",
            "Ashley\n",
            "The final 3 constestants are:\n",
            "Cole\n",
            "Ashley\n",
            "Sara\n",
            "My favorite pizzas are: \n",
            "Sausage\n",
            "Meatball\n",
            "Cheese\n",
            "My friend's favorite pizzas are: \n",
            "Sausage\n",
            "Meatball\n",
            "Cheese\n",
            "Buffalo Chicken\n",
            "Buffalo Chicken\n",
            "Buffalo Chicken\n",
            "Buffalo Chicken\n",
            "Buffalo Chicken\n",
            "Buffalo Chicken\n",
            "Buffalo Chicken\n",
            "Buffalo Chicken\n"
          ]
        }
      ],
      "source": [
        "#Ian Sever\n",
        "#Assignment 5\n",
        "athletes = ['kobe', 'messi', 'tyson']\n",
        "for athlete in athletes:\n",
        "  print(f\"{athlete.title()}, good play!\")\n",
        "  print(f\"Keep up the good work {athlete.title()}!\")\n",
        "print(\"Everyone played a great game, good job!\")\n",
        "\n",
        "pizzas = ['sausage', 'meatball', 'cheese']\n",
        "for pizza in pizzas:\n",
        "  print(f\"I love {pizza.title()} pizza!\")\n",
        "print(\"I love me some pizza!\")\n",
        "#I could do 4-2 animals by essentialy copying and pasting this code, so I skipped it\n",
        "for value in range (1,5):\n",
        "  print(value)\n",
        "even_numbers = list(range(3,15,3))\n",
        "print(even_numbers)\n",
        "squares = []\n",
        "for value in range(2,15):\n",
        "  square = value ** 2\n",
        "  squares.append(square)\n",
        "print(squares)\n",
        "digits = [1,2,3,4,5,6,7,8,9,0]\n",
        "print(min(digits))\n",
        "print(max(digits))\n",
        "print(sum(digits))\n",
        "for value in range(1,21):\n",
        "  odds = list(range(1,21,2))\n",
        "print(odds)\n",
        "for value in range(1,31,3):\n",
        "  threes = list(range(3,31,3))\n",
        "print(threes)\n",
        "for value in range(1,11):\n",
        "  print(value**3)\n",
        "contestants = ['james','martin','cole','ashley','sara',]\n",
        "print(\"These are the first three contestants of the game:\")\n",
        "for contestant in contestants[:3]:\n",
        " print(contestant.title())\n",
        "print(\"The 3 middle constestants are:\")\n",
        "for contestant in contestants[1:4]:\n",
        " print(contestant.title())\n",
        "print(\"The final 3 constestants are:\")\n",
        "for contestant in contestants[2:5]:\n",
        "  print(contestant.title())\n",
        "friend_pizzas.append('buffalo chicken')\n",
        "friend_pizzas == pizzas\n",
        "\n",
        "print(\"My favorite pizzas are: \")\n",
        "for pizza in pizzas:\n",
        "  print(pizza.title())\n",
        "print(\"My friend's favorite pizzas are: \")\n",
        "for friend_pizza in friend_pizzas:\n",
        "  print(friend_pizza.title())\n",
        "\n",
        "#for value in range(1,1000000):\n",
        "#  print (value)\n"
      ]
    }
  ]
}