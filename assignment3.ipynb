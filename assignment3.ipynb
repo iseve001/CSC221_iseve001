{
  "nbformat": 4,
  "nbformat_minor": 0,
  "metadata": {
    "colab": {
      "provenance": []
    },
    "kernelspec": {
      "name": "python3",
      "display_name": "Python 3"
    },
    "language_info": {
      "name": "python"
    }
  },
  "cells": [
    {
      "cell_type": "code",
      "execution_count": 38,
      "metadata": {
        "colab": {
          "base_uri": "https://localhost:8080/"
        },
        "id": "JGeiChikq95-",
        "outputId": "02837791-dbc6-4e2f-d774-f5ee6c10472a"
      },
      "outputs": [
        {
          "output_type": "stream",
          "name": "stdout",
          "text": [
            "Hello Python world!\n",
            "Hello python world!\n",
            "Hello python crash course reader!\n",
            "Ned Lecky\n",
            "ned lecky\n",
            "NED LECKY\n",
            "Good morning, Ned Lecky!\n",
            "test\n",
            "\ttest1\n",
            "test2\n",
            "test2\n",
            "test3\n",
            "\ttest3\n",
            "Ned\n",
            "https://google.com\n",
            "Ned Lecky once said,\"learning to program is cool\"\n",
            "Ned Lecky once said,\"learning to program is cool\"\n",
            "20\n",
            "8\n",
            "8\n",
            "8.0\n",
            "8\n"
          ]
        }
      ],
      "source": [
        "print(\"Hello Python world!\");\n",
        "message = \"Hello python world!\"\n",
        "print(message)\n",
        "message = \"Hello python crash course reader!\"\n",
        "print(message)\n",
        "name = \"Ned Lecky\"\n",
        "print(name)\n",
        "print(name.lower())\n",
        "print(name.upper())\n",
        "first_name = \"Ned\"\n",
        "last_name = \"Lecky\"\n",
        "full_name = f\"{first_name} {last_name}\"\n",
        "message2 = f\"Good morning, {full_name.title()}!\"\n",
        "print(message2)\n",
        "print(\"test\")\n",
        "print(\"\\ttest1\")\n",
        "print(\"test2\\ntest2\")\n",
        "print(\"test3\\n\\ttest3\")\n",
        "test4 = \" Ned \"\n",
        "print(test4.strip())\n",
        "url = \"https://google.com\"\n",
        "url.removeprefix('https://')\n",
        "print(url)\n",
        "print('Ned Lecky once said,\"learning to program is cool\"')\n",
        "message3 = 'Ned Lecky once said,\"learning to program is cool\"'\n",
        "print(message3)\n",
        "1+2\n",
        "1*2\n",
        "4/2\n",
        "age = 2_0\n",
        "print(age)\n",
        "CONSTANT = 1\n",
        "print(4*2)\n",
        "print(4+4)\n",
        "print(16/2)\n",
        "print(16-8)\n",
        "FAVNUM = 4\n",
        "print(FAVNUM)\n",
        "#comment\n",
        "import this"
      ]
    },
    {
      "cell_type": "code",
      "source": [
        "import this"
      ],
      "metadata": {
        "colab": {
          "base_uri": "https://localhost:8080/"
        },
        "id": "8ZZAnyRkt3bj",
        "outputId": "ad524e78-e110-4d80-fedd-3af9e2b12706"
      },
      "execution_count": 39,
      "outputs": [
        {
          "output_type": "stream",
          "name": "stdout",
          "text": [
            "The Zen of Python, by Tim Peters\n",
            "\n",
            "Beautiful is better than ugly.\n",
            "Explicit is better than implicit.\n",
            "Simple is better than complex.\n",
            "Complex is better than complicated.\n",
            "Flat is better than nested.\n",
            "Sparse is better than dense.\n",
            "Readability counts.\n",
            "Special cases aren't special enough to break the rules.\n",
            "Although practicality beats purity.\n",
            "Errors should never pass silently.\n",
            "Unless explicitly silenced.\n",
            "In the face of ambiguity, refuse the temptation to guess.\n",
            "There should be one-- and preferably only one --obvious way to do it.\n",
            "Although that way may not be obvious at first unless you're Dutch.\n",
            "Now is better than never.\n",
            "Although never is often better than *right* now.\n",
            "If the implementation is hard to explain, it's a bad idea.\n",
            "If the implementation is easy to explain, it may be a good idea.\n",
            "Namespaces are one honking great idea -- let's do more of those!\n"
          ]
        }
      ]
    }
  ]
}