{
  "nbformat": 4,
  "nbformat_minor": 0,
  "metadata": {
    "colab": {
      "provenance": []
    },
    "kernelspec": {
      "name": "python3",
      "display_name": "Python 3"
    },
    "language_info": {
      "name": "python"
    }
  },
  "cells": [
    {
      "cell_type": "code",
      "execution_count": 83,
      "metadata": {
        "colab": {
          "base_uri": "https://localhost:8080/"
        },
        "id": "Qconw8OBxUn3",
        "outputId": "b8dc8692-feca-4c3b-ab0a-227909c111d5"
      },
      "outputs": [
        {
          "output_type": "stream",
          "name": "stdout",
          "text": [
            "Ian\n",
            "Ned\n",
            "John\n",
            "Hello Ian\n",
            "['Nissan', 'Honda', 'Ford']\n",
            "Honda\n",
            "Nissan\n",
            "Ford\n",
            "My first car was a Nissan\n",
            "['Fiat', 'Honda', 'Ford']\n",
            "['Fiat', 'Honda', 'Ford', 'GMC']\n",
            "['Fiat', 'Subaru', 'Honda', 'Ford', 'GMC']\n",
            "['Subaru', 'Honda', 'Ford', 'GMC']\n",
            "['Subaru', 'Ford']\n",
            "\n",
            "A Honda is too lame for me.\n",
            "Hello, Ian, would you like to go to dinner?\n",
            "Hello, Ned, would you like to go to dinner?\n",
            "Hello, John, would you like to go to dinner?\n",
            "Sadly, Ned can not make it\n",
            "Hello, Jack, would you like to go to dinner?\n",
            "Hello, Jalen, would you like to go to dinner?\n",
            "Hello, John, would you like to go to dinner?\n",
            "Sadly, I can now only bring 2 guests.\n",
            "['Jack', 'Ian', 'Ned', 'Jalen', 'John', 'Jake']\n",
            "['Jalen', 'Jake']\n",
            "Jalen and Jake, would you still like to go to dinner?\n",
            "[]\n",
            "['Ford', 'Subaru']\n",
            "['Subaru', 'Ford']\n",
            "['Japan', 'China', 'Italy', 'Spain', 'Sweden']\n",
            "['Japan', 'China', 'Italy', 'Spain', 'Sweden']\n",
            "['Sweden', 'Spain', 'Italy', 'China', 'Japan']\n",
            "['Japan', 'China', 'Italy', 'Spain', 'Sweden']\n",
            "['Japan', 'China', 'Italy', 'Spain', 'Sweden']\n",
            "['China', 'Italy', 'Japan', 'Spain', 'Sweden']\n",
            "Only 0  of our friends will be joining us tonight, sadly\n"
          ]
        }
      ],
      "source": [
        "from pickle import POP\n",
        "names = ['Ian', 'Ned', 'John']\n",
        "print(names[0])\n",
        "print(names[1])\n",
        "print(names[-1])\n",
        "message2 = f\"Hello {names[0].title()}\"\n",
        "print(message2)\n",
        "cars = ['Nissan', 'Honda', 'Ford']\n",
        "print(cars)\n",
        "print(cars[1])\n",
        "print(cars[0].title())\n",
        "print(cars[-1])\n",
        "message = f\"My first car was a {cars[0].title()}\"\n",
        "print(message)\n",
        "cars[0] = 'Fiat'\n",
        "print(cars)\n",
        "cars.append('GMC')\n",
        "print(cars)\n",
        "cars.insert(1, 'Subaru')\n",
        "print(cars)\n",
        "del cars[0]\n",
        "print(cars)\n",
        "cars.remove('GMC')\n",
        "too_lame = 'Honda'\n",
        "cars.remove(too_lame)\n",
        "print(cars)\n",
        "print(f\"\\nA {too_lame.title()} is too lame for me.\")\n",
        "message3 = f\"Hello, {names[0].title()}, would you like to go to dinner?\"\n",
        "message4 = f\"Hello, {names[1].title()}, would you like to go to dinner?\"\n",
        "message5 = f\"Hello, {names[2].title()}, would you like to go to dinner?\"\n",
        "print(message3)\n",
        "print(message4)\n",
        "print(message5)\n",
        "print(f\"Sadly, {names[1].title()} can not make it\")\n",
        "message6 = f\"{names[0].title()}, would you still like to go to dinner?\"\n",
        "message7 = f\"{names[2].title()}, would you still like to go to dinner?\"\n",
        "names.insert(0, 'Jack')\n",
        "names.insert(3, 'Jalen')\n",
        "names.append('Jake')\n",
        "message8 = f\"Hello, {names[0].title()}, would you like to go to dinner?\"\n",
        "message9 = f\"Hello, {names[3].title()}, would you like to go to dinner?\"\n",
        "message10 = f\"Hello, {names[4].title()}, would you like to go to dinner?\"\n",
        "print(message8)\n",
        "print(message9)\n",
        "print(message10)\n",
        "print(\"Sadly, I can now only bring 2 guests.\")\n",
        "print(names)\n",
        "names.pop(0)\n",
        "names.pop(1)\n",
        "names.pop(2)\n",
        "names.pop(0)\n",
        "print(names)\n",
        "print(f\"{names[0].title()} and {names[1].title()}, would you still like to go to dinner?\")\n",
        "del(names[0])\n",
        "del(names[0])\n",
        "print(names)\n",
        "cars.sort()\n",
        "print(cars)\n",
        "cars.reverse()\n",
        "print(cars)\n",
        "len(cars)\n",
        "locations = ['Japan', 'China', 'Italy', 'Spain', 'Sweden']\n",
        "print(locations)\n",
        "sorted(locations)\n",
        "print(locations)\n",
        "locations.reverse()\n",
        "print(locations)\n",
        "locations.reverse()\n",
        "print(locations)\n",
        "locations.sort\n",
        "print(locations)\n",
        "locations.sort()\n",
        "print(locations)\n",
        "print(\"Only\", len(names),\" of our friends will be joining us tonight, sadly\")"
        print("The cubes of all of the integers that are a multiple of 7 between 60 and 85 are 63^3, 66^3, 70^3, 72^3, 75^3, 77^3, 84^3")
        print(7.4 * 40 + 51)
        print(7.4 * 50 + 51)
        print(7.4 * 120 + 51)
        print(7.4 * -8 + 51)
        print(7.4 * 6 + 51)
      ]
    }
  ]
}
