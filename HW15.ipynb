{
  "nbformat": 4,
  "nbformat_minor": 0,
  "metadata": {
    "colab": {
      "provenance": [],
      "authorship_tag": "ABX9TyOzjqZRtG+vpnyU/nfjaFxA",
      "include_colab_link": true
    },
    "kernelspec": {
      "name": "python3",
      "display_name": "Python 3"
    },
    "language_info": {
      "name": "python"
    }
  },
  "cells": [
    {
      "cell_type": "markdown",
      "metadata": {
        "id": "view-in-github",
        "colab_type": "text"
      },
      "source": [
        "<a href=\"https://colab.research.google.com/github/iseve001/CSC221_iseve001/blob/main/HW15.ipynb\" target=\"_parent\"><img src=\"https://colab.research.google.com/assets/colab-badge.svg\" alt=\"Open In Colab\"/></a>"
      ]
    },
    {
      "cell_type": "code",
      "execution_count": 7,
      "metadata": {
        "id": "Dk1tzlYixIlw",
        "colab": {
          "base_uri": "https://localhost:8080/"
        },
        "outputId": "0573fc22-a0f4-4349-dc97-d1c04c3bda55"
      },
      "outputs": [
        {
          "output_type": "stream",
          "name": "stdout",
          "text": [
            "NY,NY\n",
            "what city are you from?HA\n",
            "what country is that in?Ah\n",
            "HA,Ah\n"
          ]
        }
      ],
      "source": [
        "#11.1\n",
        "def locations(city, country):\n",
        "  return f\"{city},{country}\"\n",
        "city = \"NY\"\n",
        "country = \"NY\"\n",
        "result = f\"{city},{country}\"\n",
        "print(result)\n",
        "city = input(\"what city are you from?\")\n",
        "country = input(\"what country is that in?\")\n",
        "result = f\"{city},{country}\"\n",
        "print(result)\n"
      ]
    },
    {
      "cell_type": "code",
      "source": [
        "#11.2\n",
        "def locations(city, country, population):\n",
        "  return f\"{city},{country},{population}\"\n",
        "city = input(\"what city are you from?\")\n",
        "country = input(\"what country is that in?\")\n",
        "population = input(\"How many people live there?\")\n",
        "result = f\"{city},{country} - {populati}\"\n",
        "print(result)"
      ],
      "metadata": {
        "colab": {
          "base_uri": "https://localhost:8080/"
        },
        "id": "Qup-N4IuT7z2",
        "outputId": "089b1f7a-344e-4127-c585-91632094c9f6"
      },
      "execution_count": 8,
      "outputs": [
        {
          "output_type": "stream",
          "name": "stdout",
          "text": [
            "what city are you from?Ny\n",
            "what country is that in?rbn\n",
            "How many people live there?234\n",
            "Ny,rbn, - 234\n"
          ]
        }
      ]
    }
  ]
}