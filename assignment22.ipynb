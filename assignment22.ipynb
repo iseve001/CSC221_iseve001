{
  "nbformat": 4,
  "nbformat_minor": 0,
  "metadata": {
    "colab": {
      "provenance": [],
      "authorship_tag": "ABX9TyMofXTxa63nwqcaGvudwLsr",
      "include_colab_link": true
    },
    "kernelspec": {
      "name": "python3",
      "display_name": "Python 3"
    },
    "language_info": {
      "name": "python"
    }
  },
  "cells": [
    {
      "cell_type": "markdown",
      "metadata": {
        "id": "view-in-github",
        "colab_type": "text"
      },
      "source": [
        "<a href=\"https://colab.research.google.com/github/iseve001/CSC221_iseve001/blob/main/assignment22.ipynb\" target=\"_parent\"><img src=\"https://colab.research.google.com/assets/colab-badge.svg\" alt=\"Open In Colab\"/></a>"
      ]
    },
    {
      "cell_type": "code",
      "execution_count": 12,
      "metadata": {
        "colab": {
          "base_uri": "https://localhost:8080/"
        },
        "id": "3Z9_IauQ3rCU",
        "outputId": "8f34a6d3-568c-4e42-9c2b-735f6255e98e"
      },
      "outputs": [
        {
          "output_type": "stream",
          "name": "stdout",
          "text": [
            "Vector2D(3, 4)\n",
            "Vector2D(1, -1)\n",
            "Vector2D(0, 2)\n",
            "Vector2D(-2, 5)\n",
            "\n",
            "Sorted Vectors:\n",
            "Vector2D(1, -1)\n",
            "Vector2D(0, 2)\n",
            "Vector2D(3, 4)\n",
            "Vector2D(-2, 5)\n",
            "\n",
            "Length of 'one': 3\n",
            "Length of 'four': 4\n",
            "Length of 'seven': 5\n",
            "'one' in container: True\n",
            "'nine' in container: False\n",
            "Number of items in container: 3\n"
          ]
        }
      ],
      "source": [
        "import math\n",
        "\n",
        "class Vector2D:\n",
        "    def __init__(self, x, y):\n",
        "        self.x = x\n",
        "        self.y = y\n",
        "    def __repr__(self):\n",
        "        return f\"Vector2D({self.x}, {self.y})\"\n",
        "    def __lt__(self, other):\n",
        "        return self.length() < other.length()\n",
        "    def length(self):\n",
        "        return math.sqrt(self.x ** 2 + self.y ** 2)\n",
        "vectors = [Vector2D(3, 4), Vector2D(1, -1), Vector2D(0, 2), Vector2D(-2, 5)]\n",
        "for vector in vectors:\n",
        "    print(vector)\n",
        "sorted_vectors = sorted(vectors)\n",
        "print(\"\\nSorted Vectors:\")\n",
        "for vector in sorted_vectors:\n",
        "    print(vector)\n",
        "def __lt__(self, other):\n",
        "        return self.x + self.y < other.x + other.y\n",
        "        print(vector)\n",
        "class KeyLengthContainer:\n",
        "    def __init__(self):\n",
        "        self.data = {}\n",
        "\n",
        "    def __setitem__(self, key, value):\n",
        "        self.data[key] = value\n",
        "\n",
        "    def __getitem__(self, key):\n",
        "        return self.data[key]\n",
        "\n",
        "    def __delitem__(self, key):\n",
        "        del self.data[key]\n",
        "\n",
        "    def __contains__(self, key):\n",
        "        return key in self.data\n",
        "\n",
        "    def __len__(self):\n",
        "        return len(self.data)\n",
        "\n",
        "# Example usage:\n",
        "container = KeyLengthContainer()\n",
        "\n",
        "container[\"one\"] = 3\n",
        "container[\"four\"] = 4\n",
        "container[\"seven\"] = 5\n",
        "\n",
        "print(\"\\nLength of 'one':\", container[\"one\"])\n",
        "print(\"Length of 'four':\", container[\"four\"])\n",
        "print(\"Length of 'seven':\", container[\"seven\"])\n",
        "\n",
        "print(\"'one' in container:\", \"one\" in container)\n",
        "print(\"'nine' in container:\", \"grape\" in container)\n",
        "\n",
        "print(\"Number of items in container:\", len(container))"
      ]
    }
  ]
}