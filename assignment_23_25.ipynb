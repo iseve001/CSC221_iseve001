{
  "nbformat": 4,
  "nbformat_minor": 0,
  "metadata": {
    "colab": {
      "provenance": [],
      "authorship_tag": "ABX9TyO0990AO2yQoFIEaM3W1bZU",
      "include_colab_link": true
    },
    "kernelspec": {
      "name": "python3",
      "display_name": "Python 3"
    },
    "language_info": {
      "name": "python"
    }
  },
  "cells": [
    {
      "cell_type": "markdown",
      "metadata": {
        "id": "view-in-github",
        "colab_type": "text"
      },
      "source": [
        "<a href=\"https://colab.research.google.com/github/iseve001/CSC221_iseve001/blob/main/assignment_23_25.ipynb\" target=\"_parent\"><img src=\"https://colab.research.google.com/assets/colab-badge.svg\" alt=\"Open In Colab\"/></a>"
      ]
    },
    {
      "cell_type": "code",
      "execution_count": 25,
      "metadata": {
        "colab": {
          "base_uri": "https://localhost:8080/"
        },
        "id": "ARMix2CiS3yu",
        "outputId": "7ec87e32-e6f7-45d5-893b-1c1d4d3c4a48"
      },
      "outputs": [
        {
          "output_type": "stream",
          "name": "stdout",
          "text": [
            "10\n",
            "17\n",
            "apple 3\n",
            "banana 7\n",
            "orange 2\n",
            "grape 5\n",
            "Result: 17\n",
            "Key: apple, Value: 5\n",
            "Key: banana, Value: 8\n",
            "Key: apple, Value: 3\n",
            "Key: banana, Value: 2\n",
            "Addition: 25\n",
            "Subtraction: 2\n",
            "10\n",
            "15\n",
            "15\n",
            "['sql', 'c', 'python', 'java', 'basic', 'lua']\n",
            "Original Numbers: [1, 2, 3, 4, 5]\n",
            "Squared Numbers: [1, 4, 9, 16, 25]\n",
            "[1, 2, 3, 4, 5, 6, 7, 8, 9, 10]\n",
            "[2, 4, 6, 8, 10]\n"
          ]
        }
      ],
      "source": [
        "def func(a, b):\n",
        "    result = a + b\n",
        "    return result\n",
        "result = func(3, 7)\n",
        "print(result)\n",
        "def func(*s):\n",
        "    result = sum(s)\n",
        "    return result\n",
        "result = func(3, 7, 2, 5)\n",
        "print(result)\n",
        "def func(**kwargs):\n",
        "    result = 0\n",
        "    for key, value in kwargs.items():\n",
        "        print(f\"{key} {value}\")\n",
        "        result += value\n",
        "    return result\n",
        "result = func(apple=3, banana=7, orange=2, grape=5)\n",
        "print(\"Result:\", result)\n",
        "def func(operator='+', *args, **kwargs):\n",
        "    if operator not in ('+', '-'):\n",
        "        raise ValueError(\"invalid operator\")\n",
        "    result = sum(args) if operator == '+' else args[0] - sum(args[1:])\n",
        "    for key, value in kwargs.items():\n",
        "        print(f\"Key: {key}, Value: {value}\")\n",
        "        if operator == '+':\n",
        "            result += value\n",
        "        else:\n",
        "            result -= value\n",
        "    return result\n",
        "result_addition = func('+', 3, 7, 2, apple=5, banana=8)\n",
        "result_subtraction = func('-', 10, 2, 1, apple=3, banana=2)\n",
        "print(\"Addition:\", result_addition)\n",
        "print(\"Subtraction:\", result_subtraction)\n",
        "global_variable = 10\n",
        "def modify_global_variable():\n",
        "    global global_variable\n",
        "    print(global_variable)\n",
        "    global_variable += 5\n",
        "    print(global_variable)\n",
        "modify_global_variable()\n",
        "print(global_variable)\n",
        "words = [\"python\", \"java\", \"basic\", \"sql\", \"c\", \"lua\"]\n",
        "sorted_words_by_vowels = sorted(words, key=lambda word: sum(1 for char in word if char.lower() in 'aeiou'))\n",
        "print(sorted_words_by_vowels)\n",
        "def logger(func):\n",
        "    def wrapper(*args, **kwargs):\n",
        "        with open('log.txt', 'a') as log_file:\n",
        "            log_file.write(f\"Function: {func.__name__}\\n\")\n",
        "            log_file.write(f\"Arguments: {args}, {kwargs}\\n\")\n",
        "            result = func(*args, **kwargs)\n",
        "            log_file.write(f\"Return Value: {result}\\n\\n\")\n",
        "        return result\n",
        "    return wrapper\n",
        "@logger\n",
        "def add_numbers(a, b):\n",
        "    return a + b\n",
        "\n",
        "@logger\n",
        "def multiply_numbers(x, y):\n",
        "    return x * y\n",
        "result_add = add_numbers(3, 7)\n",
        "result_multiply = multiply_numbers(4, 5)\n",
        "numbers = [1, 2, 3, 4, 5]\n",
        "squared_numbers = list(map(lambda x: x**2, numbers))\n",
        "print(\"Original Numbers:\", numbers)\n",
        "print(\"Squared Numbers:\", squared_numbers)\n",
        "numbers = [1, 2, 3, 4, 5, 6, 7, 8, 9, 10]\n",
        "even_numbers = list(filter(lambda x: x % 2 == 0, numbers))\n",
        "print(numbers)\n",
        "print(even_numbers)\n"
      ]
    }
  ]
}