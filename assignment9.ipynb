{
  "nbformat": 4,
  "nbformat_minor": 0,
  "metadata": {
    "colab": {
      "provenance": [],
      "authorship_tag": "ABX9TyMpsg9HbrrAl4+1tU1WmOEw",
      "include_colab_link": true
    },
    "kernelspec": {
      "name": "python3",
      "display_name": "Python 3"
    },
    "language_info": {
      "name": "python"
    }
  },
  "cells": [
    {
      "cell_type": "markdown",
      "metadata": {
        "id": "view-in-github",
        "colab_type": "text"
      },
      "source": [
        "<a href=\"https://colab.research.google.com/github/iseve001/CSC221_iseve001/blob/main/assignment9.ipynb\" target=\"_parent\"><img src=\"https://colab.research.google.com/assets/colab-badge.svg\" alt=\"Open In Colab\"/></a>"
      ]
    },
    {
      "cell_type": "code",
      "execution_count": 86,
      "metadata": {
        "colab": {
          "base_uri": "https://localhost:8080/"
        },
        "id": "IxpBU3khmKbd",
        "outputId": "a3a85c19-be05-42b5-9a8c-671fcc87fefb"
      },
      "outputs": [
        {
          "output_type": "stream",
          "name": "stdout",
          "text": [
            "Enter a number - 2\n",
            "Enter another number - 3\n",
            "[2, 3, 5]\n"
          ]
        }
      ],
      "source": [
        "def greet_user():\n",
        "  print(\"Hello world\")\n",
        "greet_user()\n",
        "def greet_user(username):\n",
        " print(f\"Hello {username.title()}\")\n",
        "greet_user('ian')\n",
        "def favorite_book(book):\n",
        "  print(f\"My favorite book is {book.title()}\")\n",
        "favorite_book('The Maze Runner')\n",
        "def describe_bike(bike_type, bike_name):\n",
        " print(f\"\\nI love my {bike_type}\")\n",
        " print(f\"My {bike_type} is a {bike_name.title()}\")\n",
        "describe_bike('motorcycle', 'harley davidson')\n",
        "describe_bike(bike_type='bicycle', bike_name='schwinn')\n",
        "\n",
        "def describe_shirt(shirt_size, shirt_text):\n",
        " print(f\"\\nMy shirt is a size {shirt_size}\")\n",
        " print(f\"My shirt says {shirt_text.title()}\")\n",
        "describe_shirt('L', 'I love Phython')\n",
        "describe_shirt('L', 'I love Python')\n",
        "describe_shirt('XL', 'Life is Good')\n",
        "\n",
        "def get_formatted_name(first_name, last_name):\n",
        "  full_name = f\"{first_name} {last_name}\"\n",
        "  return full_name.title()\n",
        "athlete = get_formatted_name('michael', 'jordan')\n",
        "print(\"\\n\",athlete)\n",
        "def build_person(first_name, last_name):\n",
        "  person = {'first': first_name, 'last': last_name}\n",
        "  return person\n",
        "musician = build_person('michael', 'phelps')\n",
        "print(musician)\n",
        "\n",
        "def get_formatted_name(first_name, last_name):\n",
        "  full_name = f\"{first_name} {last_name}\"\n",
        "  return full_name.title()\n",
        "while True:\n",
        "  print(\"\\nHello, what is your name? Enter q to quit\")\n",
        "  f_name = input(\"First name: \")\n",
        "  if f_name == 'q':\n",
        "    break\n",
        "  l_name = input(\"Last name: \")\n",
        "  if l_name == 'q':\n",
        "    break\n",
        "  formatted_name = get_formatted_name(f_name, l_name)\n",
        "  print(f\"\\nHello, {formatted_name}!\")\n",
        "\n",
        "def greet_users(names):\n",
        " for name in names:\n",
        "  msg = f\"Hi {name.title()}!\"\n",
        "  print(msg)\n",
        "usernames = ['harry', 'harold', 'harper']\n",
        "greet_users(usernames)\n",
        "\n",
        "unfinished_projects = ['essay', 'worksheet', 'lab']\n",
        "finished_work = []\n",
        "while unfinished_projects:\n",
        " current_project = unfinished_projects.pop()\n",
        " print(f\"I am now working on my {current_project}\")\n",
        " finished_work.append(current_project)\n",
        "print(\"\\nI have completed my\")\n",
        "for done in finished_work:\n",
        " print(done)\n",
        "\n",
        "def make_sub(size,*toppings):\n",
        "  print(f\"\\nMaking a {size} inch sub with \")\n",
        "  for topping in toppings:\n",
        "    print(f\"- {topping}\")\n",
        "make_sub(12 , 'lettuce')\n",
        "make_sub(6, 'mayo', 'olives', 'dressing')\n",
        "\n",
        "def make_car(make,model,color,tow_package):\n",
        "  car = make_car('dodge', 'durango', color='black', tow_package=True)\n",
        "  print({car})\n",
        "\n",
        "\n",
        "num = input(\"Enter a number - \")\n",
        "num2 = input(\"Enter another number - \")\n",
        "num = int(num)\n",
        "num2 = int(num2)\n",
        "sum = num + num2\n",
        "sum = int(sum)\n",
        "nums = [num,num2,sum]\n",
        "nums.sort\n",
        "print(nums)"
      ]
    }
  ]
}