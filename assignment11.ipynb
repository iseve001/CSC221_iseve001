{
  "nbformat": 4,
  "nbformat_minor": 0,
  "metadata": {
    "colab": {
      "provenance": [],
      "authorship_tag": "ABX9TyO0LgC1BGf1C+ZajfKV87mP",
      "include_colab_link": true
    },
    "kernelspec": {
      "name": "python3",
      "display_name": "Python 3"
    },
    "language_info": {
      "name": "python"
    }
  },
  "cells": [
    {
      "cell_type": "markdown",
      "metadata": {
        "id": "view-in-github",
        "colab_type": "text"
      },
      "source": [
        "<a href=\"https://colab.research.google.com/github/iseve001/CSC221_iseve001/blob/main/assignment11.ipynb\" target=\"_parent\"><img src=\"https://colab.research.google.com/assets/colab-badge.svg\" alt=\"Open In Colab\"/></a>"
      ]
    },
    {
      "cell_type": "code",
      "source": [
        "#cars and dogs\n",
        "class Bike:\n",
        "  def __init__(self, make, model, year):\n",
        "    self.make = make\n",
        "    self.model = model\n",
        "    self.year = year\n",
        "    self.odometer_reading = 50000\n",
        "  def get_descriptive_name(self):\n",
        "    long_name = f\"{self.year} {self.make} {self.model}\"\n",
        "    return long_name.title()\n",
        "  def read_odometer(self):\n",
        "    print(f\"This bike has {self.odometer_reading} miles on it.\")\n",
        "my_new_bike = Bike('Harley', 'V-Rod', '2002')\n",
        "print(my_new_bike.get_descriptive_name())\n",
        "my_new_bike.read_odometer()"
      ],
      "metadata": {
        "colab": {
          "base_uri": "https://localhost:8080/"
        },
        "id": "kE2hIgjcz9KJ",
        "outputId": "9ea607aa-0a80-419f-f695-837ec18a05e2"
      },
      "execution_count": 104,
      "outputs": [
        {
          "output_type": "stream",
          "name": "stdout",
          "text": [
            "2002 Harley V-Rod\n",
            "This bike has 50000 miles on it.\n"
          ]
        }
      ]
    },
    {
      "cell_type": "code",
      "execution_count": 52,
      "metadata": {
        "colab": {
          "base_uri": "https://localhost:8080/"
        },
        "id": "jVD6HVubVjA1",
        "outputId": "a52b5e25-00be-4853-df21-a34e09406483"
      },
      "outputs": [
        {
          "output_type": "stream",
          "name": "stdout",
          "text": [
            "The restaurant is called Panda Express.\n",
            "Panda Express serves Chinese style food.\n",
            "The restaurant is called Digornio's.\n",
            "Digornio's serves Italian style food.\n",
            "The restaurant is called Ned's.\n",
            "Ned's serves Sicilian style food.\n"
          ]
        }
      ],
      "source": [
        "#9-1 and 2\n",
        "class Restaurant:\n",
        "  def __init__(self, restaurant_name, cuisine_type):\n",
        "      self.restaurant_name = restaurant_name\n",
        "      self.cuisine_type = cuisine_type\n",
        "\n",
        "  def describe_restaurant(self):\n",
        "      print(f\"The restaurant is called {self.restaurant_name}.\")\n",
        "      print(f\"{self.restaurant_name} serves {self.cuisine_type} style food.\")\n",
        "\n",
        "  def open_restaurant(self):\n",
        "      print(f\"{self.restaurant_name} is open.\")\n",
        "\n",
        "restaurant1 = Restaurant(\"Panda Express\", \"Chinese\")\n",
        "restaurant2 = Restaurant(\"Digornio's\", \"Italian\")\n",
        "restaurant3 = Restaurant(\"Ned's\", \"Sicilian\")\n",
        "restaurant1.describe_restaurant()\n",
        "restaurant2.describe_restaurant()\n",
        "restaurant3.describe_restaurant()\n"
      ]
    },
    {
      "cell_type": "code",
      "source": [
        "#9-3\n",
        "class user:\n",
        "  def __init__(self, first_name, last_name, age, height):\n",
        "    self.first_name = first_name\n",
        "    self.last_name = last_name\n",
        "    self.age = age\n",
        "    self.height = height\n",
        "  def describe_user(self):\n",
        "    print(f\"{self.first_name} {self.last_name} is {self.age} years old standing at {self.height}\")\n",
        "  def greet_user(self):\n",
        "    print(f\"Why hello {self.first_name}. How does it feel being {self.age}?\")\n",
        "  person1 = user(\"Ian\", \"Sever\", \"20\", \"6'1\")\n",
        "  person2 = user(\"Joe\", \"Mama\", \"36\", \"4'8\")\n",
        "  person3 = user(\"Nunya\", \"Business\", \"459\", \"8'4\")\n",
        "  person1.describe_user(), person1.greet_user()\n",
        "  person2.describe_user(), person2.greet_user()\n",
        "  person3.describe_user(), person3.greet_user()"
      ],
      "metadata": {
        "colab": {
          "base_uri": "https://localhost:8080/"
        },
        "id": "UF8FsYh8ndSm",
        "outputId": "67eb845e-8a17-44b3-f4ea-db14475f6676"
      },
      "execution_count": 63,
      "outputs": [
        {
          "output_type": "stream",
          "name": "stdout",
          "text": [
            "Ian Sever is 20 years old standing at 6'1\n",
            "Why hello Ian. How does it feel being 20?\n",
            "Joe Mama is 36 years old standing at 4'8\n",
            "Why hello Joe. How does it feel being 36?\n",
            "Nunya Business is 459 years old standing at 8'4\n",
            "Why hello Nunya. How does it feel being 459?\n"
          ]
        }
      ]
    },
    {
      "cell_type": "code",
      "source": [
        "#9-6\n",
        "class IceCreamStand:\n",
        "    def __init__(self, flavors):\n",
        "        self.flavors = flavors\n",
        "\n",
        "    def displayflavors(self):\n",
        "        for flavor in self.flavors:\n",
        "            print(f\"{flavor}\"),(f\"{flavor}\")\n",
        "\n",
        "ice_cream_stand = IceCreamStand([\"Vanilla\", \"Chocolate\", \"Strawberry\", \"Mint Chip\"])\n",
        "ice_cream_stand.displayflavors()"
      ],
      "metadata": {
        "colab": {
          "base_uri": "https://localhost:8080/"
        },
        "id": "tShizEqrqRpK",
        "outputId": "41aeee0d-85ce-44e2-b043-bacfe376e6e4"
      },
      "execution_count": 97,
      "outputs": [
        {
          "output_type": "stream",
          "name": "stdout",
          "text": [
            "Vanilla\n",
            "Chocolate\n",
            "Strawberry\n",
            "Mint Chip\n"
          ]
        }
      ]
    },
    {
      "cell_type": "code",
      "source": [
        "#9-7\n",
        "class Admin:\n",
        "    def __init__(self, username, privileges):\n",
        "        self.username = username\n",
        "        self.privileges = privileges\n",
        "\n",
        "    def show_privileges(self):\n",
        "        print(f\"{self.username} has permissions to\")\n",
        "        for privilege in self.privileges:\n",
        "            print(f\"{privilege}\")\n",
        "\n",
        "admin_user = Admin(\"AdminUser\", [\"can add post\", \"can delete post\", \"can ban user\"])\n",
        "admin_user.show_privileges()"
      ],
      "metadata": {
        "colab": {
          "base_uri": "https://localhost:8080/"
        },
        "id": "lN3wHlY0xe4j",
        "outputId": "114c481c-2555-44ee-e4ad-d20504c564e1"
      },
      "execution_count": 99,
      "outputs": [
        {
          "output_type": "stream",
          "name": "stdout",
          "text": [
            "AdminUser has permissions to\n",
            "can add post\n",
            "can delete post\n",
            "can ban user\n"
          ]
        }
      ]
    }
  ]
}